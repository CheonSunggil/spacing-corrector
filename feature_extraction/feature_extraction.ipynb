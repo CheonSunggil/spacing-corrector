{
 "cells": [
  {
   "cell_type": "code",
   "execution_count": null,
   "id": "5141cdb2-24af-4368-a12d-630f98065a00",
   "metadata": {},
   "outputs": [],
   "source": [
    "TODAY = datetime.now().strftime(\"%Y%m%d%H%M%S\")\n",
    "FOLDER_NAME = 'spacing_corrector'\n",
    "\n",
    "#------------- Storage Client Connection----------#\n",
    "s3_client = S3Client(args.env)\n",
    "PREPROCESSING_PREFIX = '{}/data/preprocessing/'.format(FOLDER_NAME)\n",
    "preprocessing_key = s3_client.get_latest_file_path(PREPROCESSING_PREFIX)\n",
    "\n",
    "\n",
    "preprocessing_data = s3_client.get_pkl_data(preprocessing_key)"
   ]
  },
  {
   "cell_type": "code",
   "execution_count": 11,
   "id": "9ad1dc25-839a-4a49-b2af-860c3473bf2e",
   "metadata": {},
   "outputs": [],
   "source": [
    "def space_tagging(corpus_list):\n",
    "    \"\"\" character 단위 도큰화와 띄어쓰기 태깅 수행 \n",
    "    \n",
    "    \"\"\"\n",
    "    words_list = list()\n",
    "    tags_list = list()\n",
    "    for corpus in tqdm(corpus_list) :\n",
    "        sentence = corpus.split(\" \")\n",
    "        tags = list()\n",
    "        words = list()\n",
    "        for word in sentence :\n",
    "            for i,w in enumerate(word) :\n",
    "                words.append(w)\n",
    "                if i == 0:\n",
    "                    tags.append('B')\n",
    "                else :\n",
    "                    tags.append('I')\n",
    "        words_list.append(words)\n",
    "        tags_list.append(tags)\n",
    "  \n",
    "    return (words_list, tags_list)"
   ]
  },
  {
   "cell_type": "code",
   "execution_count": 21,
   "id": "cacd9a21-2370-4657-9586-f308f7c6abf4",
   "metadata": {},
   "outputs": [],
   "source": [
    "def train_tokenizer(data):\n",
    "    \"\"\" 토크나이저 학습\n",
    "    \"\"\"\n",
    "\n",
    "    #sent_tokenizer = Tokenizer(oov_token='OOV', lower=False)\n",
    "    tag_tokenizer = Tokenizer(lower=False)\n",
    "\n",
    "    sent_tokenizer.fit_on_texts(sentences)\n",
    "    tag_tokenizer.fit_on_texts(tags)\n",
    "\n",
    "    sent_tokenizer.fit_on_texts(create_all_hangul_char()) #모든 한글 단어 토큰 추가\n",
    "\n",
    "    return sent_tokenizer, tag_tokenizer"
   ]
  },
  {
   "cell_type": "code",
   "execution_count": 17,
   "id": "c53eb661-527f-4287-ae6d-070469383280",
   "metadata": {},
   "outputs": [],
   "source": [
    "def create_all_hangul_char():\n",
    "    \"\"\" 모든 한글 음절 생성\n",
    "    \"\"\"\n",
    "    hangul = list()\n",
    "    for i in range(0xAC00, 0xD7A3):\n",
    "        hangul.append(chr(i))\n",
    "       \n",
    "    return hangul"
   ]
  },
  {
   "cell_type": "code",
   "execution_count": 2,
   "id": "229fc79e-0dc7-4a57-850e-73da74edd165",
   "metadata": {},
   "outputs": [],
   "source": [
    "import argparse\n",
    "from datetime import datetime\n",
    "from tqdm import tqdm\n",
    "from s3_utils import S3Client\n",
    "from tensorflow.keras.preprocessing.sequence import pad_sequences\n",
    "from tensorflow.keras.preprocessing.text import Tokenizer\n",
    "from tensorflow.keras.utils import to_categorical\n",
    "from tqdm import tqdm\n"
   ]
  },
  {
   "cell_type": "code",
   "execution_count": 3,
   "id": "3bd8334e-c9ba-4e6a-853c-5a3db08046ba",
   "metadata": {},
   "outputs": [
    {
     "name": "stdout",
     "output_type": "stream",
     "text": [
      "spacing_corrector/data/preprocessing/preprocessing_20230107211600.pkl\n"
     ]
    }
   ],
   "source": [
    "TODAY = datetime.now().strftime(\"%Y%m%d%H%M%S\")\n",
    "FOLDER_NAME = 'spacing_corrector'\n",
    "\n",
    "#------------- Storage Client Connection----------#\n",
    "s3_client = S3Client('local')\n",
    "PREPROCESSING_PREFIX = '{}/data/preprocessing/'.format(FOLDER_NAME)\n",
    "preprocessing_key = s3_client.get_latest_file_path(PREPROCESSING_PREFIX)\n",
    "\n",
    "\n",
    "preprocessing_data = s3_client.get_pkl_data(preprocessing_key)"
   ]
  },
  {
   "cell_type": "code",
   "execution_count": 15,
   "id": "0d5f31ec-096c-443b-8258-ceccfff171db",
   "metadata": {},
   "outputs": [
    {
     "name": "stderr",
     "output_type": "stream",
     "text": [
      "100%|███████████████████████████████████████████████████████████████████████████| 1456/1456 [00:00<00:00, 58228.12it/s]\n"
     ]
    }
   ],
   "source": [
    "input_data, output_data = space_tagging(preprocessing_data)"
   ]
  },
  {
   "cell_type": "code",
   "execution_count": 23,
   "id": "e169a354-bb38-4a1f-99bf-5ca777a623bb",
   "metadata": {},
   "outputs": [],
   "source": [
    "input_tokenizer, output_tokenizer = train_tokenizer(input_data, output_data)"
   ]
  },
  {
   "cell_type": "code",
   "execution_count": 24,
   "id": "c14df15d-049f-43b5-a76a-3217e0c1c58f",
   "metadata": {},
   "outputs": [
    {
     "data": {
      "text/plain": [
       "<keras.preprocessing.text.Tokenizer at 0x1e39e854c10>"
      ]
     },
     "execution_count": 24,
     "metadata": {},
     "output_type": "execute_result"
    }
   ],
   "source": [
    "input_tokenizer"
   ]
  },
  {
   "cell_type": "code",
   "execution_count": null,
   "id": "6280e33f-e187-4261-9c23-7d96a57cc7fa",
   "metadata": {},
   "outputs": [],
   "source": []
  }
 ],
 "metadata": {
  "kernelspec": {
   "display_name": "spacing-corrector",
   "language": "python",
   "name": "spacing-corrector"
  },
  "language_info": {
   "codemirror_mode": {
    "name": "ipython",
    "version": 3
   },
   "file_extension": ".py",
   "mimetype": "text/x-python",
   "name": "python",
   "nbconvert_exporter": "python",
   "pygments_lexer": "ipython3",
   "version": "3.10.8"
  }
 },
 "nbformat": 4,
 "nbformat_minor": 5
}
